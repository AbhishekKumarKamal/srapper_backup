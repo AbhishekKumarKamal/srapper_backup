{
 "cells": [
  {
   "cell_type": "code",
   "execution_count": 3,
   "metadata": {},
   "outputs": [],
   "source": [
    "path=\"/Users/abhishek1.kamal/Desktop/SeleniumDrivers/chromedriver\"\n",
    "from selenium import webdriver\n",
    "#from selenium.webdriver.support.ui import WebDriverWait\n",
    "from selenium.webdriver.common.action_chains import ActionChains\n",
    "from selenium.webdriver.common.keys import Keys\n",
    "import time"
   ]
  },
  {
   "cell_type": "code",
   "execution_count": 4,
   "metadata": {},
   "outputs": [],
   "source": [
    "from bs4 import BeautifulSoup"
   ]
  },
  {
   "cell_type": "code",
   "execution_count": 5,
   "metadata": {},
   "outputs": [],
   "source": [
    "import json,copy"
   ]
  },
  {
   "cell_type": "code",
   "execution_count": 6,
   "metadata": {},
   "outputs": [],
   "source": [
    "# from nltk.corpus import stopwords \n",
    "# from nltk.tokenize import word_tokenize\n",
    "# import nltk"
   ]
  },
  {
   "cell_type": "code",
   "execution_count": 7,
   "metadata": {},
   "outputs": [],
   "source": [
    "from selenium.webdriver.support.ui import WebDriverWait"
   ]
  },
  {
   "cell_type": "code",
   "execution_count": 8,
   "metadata": {},
   "outputs": [
    {
     "ename": "SessionNotCreatedException",
     "evalue": "Message: session not created: This version of ChromeDriver only supports Chrome version 78\n",
     "output_type": "error",
     "traceback": [
      "\u001b[0;31m---------------------------------------------------------------------------\u001b[0m",
      "\u001b[0;31mSessionNotCreatedException\u001b[0m                Traceback (most recent call last)",
      "\u001b[0;32m<ipython-input-8-42db0c5caaa4>\u001b[0m in \u001b[0;36m<module>\u001b[0;34m\u001b[0m\n\u001b[0;32m----> 1\u001b[0;31m \u001b[0mdriver\u001b[0m\u001b[0;34m=\u001b[0m\u001b[0mwebdriver\u001b[0m\u001b[0;34m.\u001b[0m\u001b[0mChrome\u001b[0m\u001b[0;34m(\u001b[0m\u001b[0mpath\u001b[0m\u001b[0;34m)\u001b[0m\u001b[0;34m\u001b[0m\u001b[0m\n\u001b[0m",
      "\u001b[0;32m~/.pyenv/versions/3.6.1/envs/webscraping/lib/python3.6/site-packages/selenium/webdriver/chrome/webdriver.py\u001b[0m in \u001b[0;36m__init__\u001b[0;34m(self, executable_path, port, options, service_args, desired_capabilities, service_log_path, chrome_options, keep_alive)\u001b[0m\n\u001b[1;32m     79\u001b[0m                     \u001b[0mremote_server_addr\u001b[0m\u001b[0;34m=\u001b[0m\u001b[0mself\u001b[0m\u001b[0;34m.\u001b[0m\u001b[0mservice\u001b[0m\u001b[0;34m.\u001b[0m\u001b[0mservice_url\u001b[0m\u001b[0;34m,\u001b[0m\u001b[0;34m\u001b[0m\u001b[0m\n\u001b[1;32m     80\u001b[0m                     keep_alive=keep_alive),\n\u001b[0;32m---> 81\u001b[0;31m                 desired_capabilities=desired_capabilities)\n\u001b[0m\u001b[1;32m     82\u001b[0m         \u001b[0;32mexcept\u001b[0m \u001b[0mException\u001b[0m\u001b[0;34m:\u001b[0m\u001b[0;34m\u001b[0m\u001b[0m\n\u001b[1;32m     83\u001b[0m             \u001b[0mself\u001b[0m\u001b[0;34m.\u001b[0m\u001b[0mquit\u001b[0m\u001b[0;34m(\u001b[0m\u001b[0;34m)\u001b[0m\u001b[0;34m\u001b[0m\u001b[0m\n",
      "\u001b[0;32m~/.pyenv/versions/3.6.1/envs/webscraping/lib/python3.6/site-packages/selenium/webdriver/remote/webdriver.py\u001b[0m in \u001b[0;36m__init__\u001b[0;34m(self, command_executor, desired_capabilities, browser_profile, proxy, keep_alive, file_detector, options)\u001b[0m\n\u001b[1;32m    155\u001b[0m             warnings.warn(\"Please use FirefoxOptions to set browser profile\",\n\u001b[1;32m    156\u001b[0m                           DeprecationWarning, stacklevel=2)\n\u001b[0;32m--> 157\u001b[0;31m         \u001b[0mself\u001b[0m\u001b[0;34m.\u001b[0m\u001b[0mstart_session\u001b[0m\u001b[0;34m(\u001b[0m\u001b[0mcapabilities\u001b[0m\u001b[0;34m,\u001b[0m \u001b[0mbrowser_profile\u001b[0m\u001b[0;34m)\u001b[0m\u001b[0;34m\u001b[0m\u001b[0m\n\u001b[0m\u001b[1;32m    158\u001b[0m         \u001b[0mself\u001b[0m\u001b[0;34m.\u001b[0m\u001b[0m_switch_to\u001b[0m \u001b[0;34m=\u001b[0m \u001b[0mSwitchTo\u001b[0m\u001b[0;34m(\u001b[0m\u001b[0mself\u001b[0m\u001b[0;34m)\u001b[0m\u001b[0;34m\u001b[0m\u001b[0m\n\u001b[1;32m    159\u001b[0m         \u001b[0mself\u001b[0m\u001b[0;34m.\u001b[0m\u001b[0m_mobile\u001b[0m \u001b[0;34m=\u001b[0m \u001b[0mMobile\u001b[0m\u001b[0;34m(\u001b[0m\u001b[0mself\u001b[0m\u001b[0;34m)\u001b[0m\u001b[0;34m\u001b[0m\u001b[0m\n",
      "\u001b[0;32m~/.pyenv/versions/3.6.1/envs/webscraping/lib/python3.6/site-packages/selenium/webdriver/remote/webdriver.py\u001b[0m in \u001b[0;36mstart_session\u001b[0;34m(self, capabilities, browser_profile)\u001b[0m\n\u001b[1;32m    250\u001b[0m         parameters = {\"capabilities\": w3c_caps,\n\u001b[1;32m    251\u001b[0m                       \"desiredCapabilities\": capabilities}\n\u001b[0;32m--> 252\u001b[0;31m         \u001b[0mresponse\u001b[0m \u001b[0;34m=\u001b[0m \u001b[0mself\u001b[0m\u001b[0;34m.\u001b[0m\u001b[0mexecute\u001b[0m\u001b[0;34m(\u001b[0m\u001b[0mCommand\u001b[0m\u001b[0;34m.\u001b[0m\u001b[0mNEW_SESSION\u001b[0m\u001b[0;34m,\u001b[0m \u001b[0mparameters\u001b[0m\u001b[0;34m)\u001b[0m\u001b[0;34m\u001b[0m\u001b[0m\n\u001b[0m\u001b[1;32m    253\u001b[0m         \u001b[0;32mif\u001b[0m \u001b[0;34m'sessionId'\u001b[0m \u001b[0;32mnot\u001b[0m \u001b[0;32min\u001b[0m \u001b[0mresponse\u001b[0m\u001b[0;34m:\u001b[0m\u001b[0;34m\u001b[0m\u001b[0m\n\u001b[1;32m    254\u001b[0m             \u001b[0mresponse\u001b[0m \u001b[0;34m=\u001b[0m \u001b[0mresponse\u001b[0m\u001b[0;34m[\u001b[0m\u001b[0;34m'value'\u001b[0m\u001b[0;34m]\u001b[0m\u001b[0;34m\u001b[0m\u001b[0m\n",
      "\u001b[0;32m~/.pyenv/versions/3.6.1/envs/webscraping/lib/python3.6/site-packages/selenium/webdriver/remote/webdriver.py\u001b[0m in \u001b[0;36mexecute\u001b[0;34m(self, driver_command, params)\u001b[0m\n\u001b[1;32m    319\u001b[0m         \u001b[0mresponse\u001b[0m \u001b[0;34m=\u001b[0m \u001b[0mself\u001b[0m\u001b[0;34m.\u001b[0m\u001b[0mcommand_executor\u001b[0m\u001b[0;34m.\u001b[0m\u001b[0mexecute\u001b[0m\u001b[0;34m(\u001b[0m\u001b[0mdriver_command\u001b[0m\u001b[0;34m,\u001b[0m \u001b[0mparams\u001b[0m\u001b[0;34m)\u001b[0m\u001b[0;34m\u001b[0m\u001b[0m\n\u001b[1;32m    320\u001b[0m         \u001b[0;32mif\u001b[0m \u001b[0mresponse\u001b[0m\u001b[0;34m:\u001b[0m\u001b[0;34m\u001b[0m\u001b[0m\n\u001b[0;32m--> 321\u001b[0;31m             \u001b[0mself\u001b[0m\u001b[0;34m.\u001b[0m\u001b[0merror_handler\u001b[0m\u001b[0;34m.\u001b[0m\u001b[0mcheck_response\u001b[0m\u001b[0;34m(\u001b[0m\u001b[0mresponse\u001b[0m\u001b[0;34m)\u001b[0m\u001b[0;34m\u001b[0m\u001b[0m\n\u001b[0m\u001b[1;32m    322\u001b[0m             response['value'] = self._unwrap_value(\n\u001b[1;32m    323\u001b[0m                 response.get('value', None))\n",
      "\u001b[0;32m~/.pyenv/versions/3.6.1/envs/webscraping/lib/python3.6/site-packages/selenium/webdriver/remote/errorhandler.py\u001b[0m in \u001b[0;36mcheck_response\u001b[0;34m(self, response)\u001b[0m\n\u001b[1;32m    240\u001b[0m                 \u001b[0malert_text\u001b[0m \u001b[0;34m=\u001b[0m \u001b[0mvalue\u001b[0m\u001b[0;34m[\u001b[0m\u001b[0;34m'alert'\u001b[0m\u001b[0;34m]\u001b[0m\u001b[0;34m.\u001b[0m\u001b[0mget\u001b[0m\u001b[0;34m(\u001b[0m\u001b[0;34m'text'\u001b[0m\u001b[0;34m)\u001b[0m\u001b[0;34m\u001b[0m\u001b[0m\n\u001b[1;32m    241\u001b[0m             \u001b[0;32mraise\u001b[0m \u001b[0mexception_class\u001b[0m\u001b[0;34m(\u001b[0m\u001b[0mmessage\u001b[0m\u001b[0;34m,\u001b[0m \u001b[0mscreen\u001b[0m\u001b[0;34m,\u001b[0m \u001b[0mstacktrace\u001b[0m\u001b[0;34m,\u001b[0m \u001b[0malert_text\u001b[0m\u001b[0;34m)\u001b[0m\u001b[0;34m\u001b[0m\u001b[0m\n\u001b[0;32m--> 242\u001b[0;31m         \u001b[0;32mraise\u001b[0m \u001b[0mexception_class\u001b[0m\u001b[0;34m(\u001b[0m\u001b[0mmessage\u001b[0m\u001b[0;34m,\u001b[0m \u001b[0mscreen\u001b[0m\u001b[0;34m,\u001b[0m \u001b[0mstacktrace\u001b[0m\u001b[0;34m)\u001b[0m\u001b[0;34m\u001b[0m\u001b[0m\n\u001b[0m\u001b[1;32m    243\u001b[0m \u001b[0;34m\u001b[0m\u001b[0m\n\u001b[1;32m    244\u001b[0m     \u001b[0;32mdef\u001b[0m \u001b[0m_value_or_default\u001b[0m\u001b[0;34m(\u001b[0m\u001b[0mself\u001b[0m\u001b[0;34m,\u001b[0m \u001b[0mobj\u001b[0m\u001b[0;34m,\u001b[0m \u001b[0mkey\u001b[0m\u001b[0;34m,\u001b[0m \u001b[0mdefault\u001b[0m\u001b[0;34m)\u001b[0m\u001b[0;34m:\u001b[0m\u001b[0;34m\u001b[0m\u001b[0m\n",
      "\u001b[0;31mSessionNotCreatedException\u001b[0m: Message: session not created: This version of ChromeDriver only supports Chrome version 78\n"
     ]
    }
   ],
   "source": [
    "driver=webdriver.Chrome(path)"
   ]
  },
  {
   "cell_type": "code",
   "execution_count": 7,
   "metadata": {},
   "outputs": [],
   "source": [
    "BASE_URL = \"https://www.brainyquote.com\"\n",
    "BASE_URL1 = \"https://www.brainyquote.com/\"\n",
    "AUTHORS = \"/authors\"\n",
    "TOPICS = \"/topics\""
   ]
  },
  {
   "cell_type": "code",
   "execution_count": 8,
   "metadata": {},
   "outputs": [],
   "source": [
    "def page_load_script():\n",
    "    SCROLL_PAUSE_TIME = 2\n",
    "\n",
    "    # Get scroll height\n",
    "    last_height = driver.execute_script(\"return document.body.scrollHeight\")\n",
    "\n",
    "    while True:\n",
    "        # Scroll down to bottom\n",
    "        driver.execute_script(\"window.scrollTo(0, document.body.scrollHeight);\")\n",
    "\n",
    "        # Wait to load page\n",
    "        time.sleep(SCROLL_PAUSE_TIME)\n",
    "\n",
    "        # Calculate new scroll height and compare with last scroll height\n",
    "        new_height = driver.execute_script(\"return document.body.scrollHeight\")\n",
    "        if new_height == last_height:\n",
    "            break\n",
    "        last_height = new_height"
   ]
  },
  {
   "cell_type": "code",
   "execution_count": 9,
   "metadata": {},
   "outputs": [],
   "source": [
    "letters= ['a',\n",
    " 'b',\n",
    " 'c',\n",
    " 'd',\n",
    " 'e',\n",
    " 'f',\n",
    " 'g',\n",
    " 'h',\n",
    " 'i',\n",
    " 'j',\n",
    " 'k',\n",
    " 'l',\n",
    " 'm',\n",
    " 'n',\n",
    " 'o',\n",
    " 'p',\n",
    " 'q',\n",
    " 'r',\n",
    " 's',\n",
    " 't',\n",
    " 'u',\n",
    " 'v',\n",
    " 'w',\n",
    " 'x',\n",
    " 'y',\n",
    " 'z']"
   ]
  },
  {
   "cell_type": "code",
   "execution_count": 10,
   "metadata": {},
   "outputs": [
    {
     "name": "stdout",
     "output_type": "stream",
     "text": [
      "26\n"
     ]
    }
   ],
   "source": [
    "print(len(letters))"
   ]
  },
  {
   "cell_type": "code",
   "execution_count": 11,
   "metadata": {},
   "outputs": [],
   "source": [
    "def get_BranyQuotes_topics_detailed_data():\n",
    "    url = BASE_URL+TOPICS\n",
    "    driver.get(url)\n",
    "    time.sleep(1)\n",
    "    WebDriverWait(driver,1)\n",
    "    detailed_topics=[]\n",
    "    html = driver.execute_script(\"return document.documentElement.outerHTML;\")\n",
    "    soup = BeautifulSoup(html, 'lxml')\n",
    "    element=soup.findAll(\"div\",class_=\"col-sm-6 col-md-4\")\n",
    "    for i in range(0,len(element)):\n",
    "        topics=element[i].findAll(\"a\")\n",
    "        for item in topics:\n",
    "            temp={}\n",
    "            temp[\"path\"]=item.get('href')\n",
    "            temp[\"author\"] = item.text.replace(\"\\n\",\"\")\n",
    "            print(temp)\n",
    "            detailed_topics.append(temp)\n",
    "    return detailed_topics"
   ]
  },
  {
   "cell_type": "code",
   "execution_count": 12,
   "metadata": {},
   "outputs": [],
   "source": [
    "def get_BrainyQuotes_detailed_authors_data(letter_list):\n",
    "    author_wise={}\n",
    "    for idx in range(0,len(letter_list)):\n",
    "        Error_found = False\n",
    "        letter=letter_list[idx]\n",
    "        print(idx, letter)\n",
    "    #     if(letter==\"b\"):\n",
    "    #         break\n",
    "        letter_dict={}\n",
    "        url = BASE_URL+AUTHORS+\"/\"+letter\n",
    "        driver.get(url)\n",
    "        time.sleep(1)\n",
    "        WebDriverWait(driver,1)\n",
    "        popular_list=[]\n",
    "        html = driver.execute_script(\"return document.documentElement.outerHTML;\")\n",
    "        soup = BeautifulSoup(html, 'lxml')\n",
    "        try:\n",
    "            populars = soup.find('div',class_='bq_fl').findAll('a')\n",
    "            for popular in populars:\n",
    "                temp={}\n",
    "                temp['author'] = popular.text.replace(\"\\n\",\"\")\n",
    "                temp['path'] = popular.get('href')\n",
    "                popular_list.append(temp)\n",
    "        except:\n",
    "            print(\"Error in finding popular topics for this letter\")\n",
    "            pass\n",
    "\n",
    "        letter_dict[\"popular_authors\"] = popular_list\n",
    "        elements=soup.findAll('div', class_='bq_s')\n",
    "        try:\n",
    "            number_of_page = int(elements[0].findAll('li')[-2].text)\n",
    "        except Exception as e:\n",
    "            print(\"For this letter no. of pages are less than 2\")\n",
    "            number_of_page=2\n",
    "            Error_found = True\n",
    "            pass\n",
    "\n",
    "        author_detailed_list=[]\n",
    "        print(\"pages \",number_of_page)\n",
    "        for i in range(1,number_of_page+1):\n",
    "            #print(\"page no \", i)\n",
    "    #         if(i==3):\n",
    "    #             break\n",
    "            url1 = BASE_URL+AUTHORS+\"/\"+letter+str(i)\n",
    "            driver.get(url1)\n",
    "            time.sleep(0.5)\n",
    "            WebDriverWait(driver,0.5)\n",
    "\n",
    "            html = driver.execute_script(\"return document.documentElement.outerHTML;\")\n",
    "            soup = BeautifulSoup(html, 'lxml')\n",
    "            element=soup.findAll('div', class_='bq_s')[1]\n",
    "            if Error_found:\n",
    "                element=soup.findAll('div', class_='bq_s')[0]\n",
    "            element1=element.find('tbody')\n",
    "            element3= element1.findAll('tr')\n",
    "            for element2 in element3:\n",
    "                author_detail={}\n",
    "                author_detail[\"author\"] = element2.td.text.replace(\"\\n\",\"\")\n",
    "                author_detail[\"path\"] = element2.find('a').get('href')\n",
    "                author_detail[\"profession\"] = element2.findAll('td')[1].text.replace(\"\\n\",\"\")\n",
    "                #print(element2.td.text.replace(\"\\n\",\"\"),\" \",element2.findAll('td')[1].text.replace(\"\\n\",\"\"))\n",
    "                author_detailed_list.append(author_detail)\n",
    "\n",
    "            #print(\"-\" * 50)\n",
    "        letter_dict[\"author\"] = author_detailed_list\n",
    "        author_wise[letter] = letter_dict\n",
    "    \n",
    "#     author_wise['z'][\"popular_authors\"]=[]\n",
    "#     author_wise['u'][\"popular_authors\"]=[]\n",
    "#     author_wise['y'][\"popular_authors\"]=[]\n",
    "        \n",
    "    return author_wise"
   ]
  },
  {
   "cell_type": "code",
   "execution_count": null,
   "metadata": {},
   "outputs": [],
   "source": []
  },
  {
   "cell_type": "code",
   "execution_count": 56,
   "metadata": {},
   "outputs": [],
   "source": [
    "file_name = \"BrainyQuotes_quotes_dict_for_L_30DeC.json\"\n",
    "with open(file_name, \"w\") as file:\n",
    "    file.write(json.dumps(all_quotes_dict, indent=4))"
   ]
  },
  {
   "cell_type": "code",
   "execution_count": 36,
   "metadata": {},
   "outputs": [],
   "source": [
    "file_name = \"BrainyQuotes_quotes_for_author_K's_10Jan.json\"\n",
    "with open(file_name, \"w\") as file:\n",
    "    file.write(json.dumps(all_quotes_dict, indent=4))"
   ]
  },
  {
   "cell_type": "code",
   "execution_count": 14,
   "metadata": {},
   "outputs": [],
   "source": [
    "with open(\"BrainyQuotes_Authors_Detailed_data_21Dec.json\", \"r\") as file:\n",
    "    data=file.read()\n",
    "    authors=json.loads(data)"
   ]
  },
  {
   "cell_type": "code",
   "execution_count": 48,
   "metadata": {},
   "outputs": [],
   "source": [
    "# with open(\"BrainyQuotes_quotes_for_author_H,I,J's_27DeC.json\", \"r\") as file:\n",
    "#     data=file.read()\n",
    "#     quotes=copy.deepcopy(json.loads(data))"
   ]
  },
  {
   "cell_type": "code",
   "execution_count": 15,
   "metadata": {},
   "outputs": [
    {
     "ename": "NameError",
     "evalue": "name 'quotes_dict' is not defined",
     "output_type": "error",
     "traceback": [
      "\u001b[0;31m---------------------------------------------------------------------------\u001b[0m",
      "\u001b[0;31mNameError\u001b[0m                                 Traceback (most recent call last)",
      "\u001b[0;32m<ipython-input-15-9ea345174369>\u001b[0m in \u001b[0;36m<module>\u001b[0;34m\u001b[0m\n\u001b[0;32m----> 1\u001b[0;31m \u001b[0mprint\u001b[0m\u001b[0;34m(\u001b[0m\u001b[0mlen\u001b[0m\u001b[0;34m(\u001b[0m\u001b[0mquotes_dict\u001b[0m\u001b[0;34m)\u001b[0m\u001b[0;34m)\u001b[0m\u001b[0;34m\u001b[0m\u001b[0m\n\u001b[0m",
      "\u001b[0;31mNameError\u001b[0m: name 'quotes_dict' is not defined"
     ]
    }
   ],
   "source": [
    "print(len(quotes_dict))"
   ]
  },
  {
   "cell_type": "code",
   "execution_count": null,
   "metadata": {},
   "outputs": [],
   "source": []
  },
  {
   "cell_type": "code",
   "execution_count": 21,
   "metadata": {},
   "outputs": [
    {
     "name": "stdout",
     "output_type": "stream",
     "text": [
      "26\n"
     ]
    }
   ],
   "source": [
    "print(len(authors))"
   ]
  },
  {
   "cell_type": "code",
   "execution_count": 20,
   "metadata": {},
   "outputs": [
    {
     "data": {
      "text/plain": [
       "{'author': 'A. James Clark',\n",
       " 'path': '/authors/a-james-clark-quotes',\n",
       " 'profession': 'Businessman'}"
      ]
     },
     "execution_count": 20,
     "metadata": {},
     "output_type": "execute_result"
    }
   ],
   "source": [
    "authors['a'][\"author\"][20]"
   ]
  },
  {
   "cell_type": "code",
   "execution_count": 24,
   "metadata": {},
   "outputs": [],
   "source": [
    "def get_author_other_detail():\n",
    "    intro_dict = {\"nationality\":\"\",\"dob\":None,\"wikipedia_url\":\"\"}\n",
    "#     authors_detailed_list = copy.deepcopy(authors[letters[i]][\"author\"])\n",
    "#     author_detail = authors_detailed_list[j]\n",
    "#     url = BASE_URL+author_detail['path']\n",
    "#     driver.get(url)\n",
    "#     time.sleep(0.5)\n",
    "#     WebDriverWait(driver,0.5)\n",
    "    html = driver.execute_script(\"return document.documentElement.outerHTML;\")\n",
    "    soup = BeautifulSoup(html, 'lxml')\n",
    "    extracted = soup.find(\"div\",class_ = \"subnav-below-p\").findAll(\"a\")\n",
    "    try:\n",
    "        intro_dict[\"nationality\"] = extracted[0].text.strip()\n",
    "        intro_dict[\"dob\"] = extracted[2].text.strip()\n",
    "    except:\n",
    "        pass\n",
    "    try:\n",
    "        driver.find_element_by_xpath(\"//*[@id='bqNavBarCtrl']/div/nav/ul/li[3]/a\").click()\n",
    "        time.sleep(0.5)\n",
    "        WebDriverWait(driver,0.5)\n",
    "        html = driver.execute_script(\"return document.documentElement.outerHTML;\")\n",
    "        soup = BeautifulSoup(html, 'lxml')\n",
    "        wikipedia = soup.find(\"a\",target = \"wikipedia\").get(\"href\")\n",
    "        intro_dict[\"wikipedia_url\"] = wikipedia\n",
    "    except:\n",
    "        pass\n",
    "    return intro_dict"
   ]
  },
  {
   "cell_type": "code",
   "execution_count": 25,
   "metadata": {},
   "outputs": [],
   "source": [
    "def get_quotes_without_image():\n",
    "    page_load_script()\n",
    "    html = driver.execute_script(\"return document.documentElement.outerHTML;\")\n",
    "    soup = BeautifulSoup(html, 'lxml')\n",
    "    #print(soup)\n",
    "    element_soup=soup.find(\"div\",id=\"quotesList\")\n",
    "    element_soup1=element_soup.findAll(\"div\",class_=\"m-brick grid-item boxy bqQt\")\n",
    "    quote_detail_list=[]\n",
    "    for i in range(0,len(element_soup1)):\n",
    "        element=element_soup1[i]\n",
    "        temp={}\n",
    "        element_soup2=element.find(\"div\",class_=\"clearfix\")\n",
    "        temp[\"quote\"] = element_soup2.findAll(\"a\")[0].text.replace(\"\\n\",\"\")\n",
    "        #print(element_soup2.findAll(\"a\")[0].text.replace(\"\\n\",\"\"))\n",
    "        temp[\"author\"] = element_soup2.findAll(\"a\")[1].text.replace(\"\\n\",\"\")\n",
    "        #print(element_soup2.findAll(\"a\")[1].text.replace(\"\\n\",\"\"))\n",
    "        # element_soup3=element_soup1.find(\"div\",class_=\"qbn-box\")\n",
    "        # print(\"3 \",element_soup3)\n",
    "        tag = []\n",
    "        try:\n",
    "            element_soup4=element.find(\"div\",class_=\"qll-dsk-kw-box\").findAll(\"a\")\n",
    "            for item in element_soup4:\n",
    "                tag.append(item.text)\n",
    "        except:\n",
    "            print(\"Error in tags without Images\")\n",
    "            pass\n",
    "        temp[\"tags\"] = tag\n",
    "        #print(tag)\n",
    "        #print(temp)\n",
    "        quote_detail_list.append(temp)\n",
    "        #print(i,\"-\" * 100)\n",
    "    return quote_detail_list"
   ]
  },
  {
   "cell_type": "code",
   "execution_count": 26,
   "metadata": {},
   "outputs": [],
   "source": [
    "def get_quotes_with_background_image():\n",
    "    page_load_script()\n",
    "    html = driver.execute_script(\"return document.documentElement.outerHTML;\")\n",
    "    soup = BeautifulSoup(html, 'lxml')\n",
    "    element_soup=soup.find(\"div\",id=\"quotesList\")\n",
    "    element_soup1=element_soup.findAll(\"div\",class_=\"m-brick grid-item boxy bqQt qll-new-bg\")\n",
    "    quote_detail_list=[]\n",
    "    for i in range(0,len(element_soup1)):\n",
    "        element=element_soup1[i]\n",
    "        temp={}\n",
    "        element_soup2=element.find(\"div\",class_=\"clearfix\")\n",
    "        temp[\"quote\"] = element_soup2.findAll(\"a\")[0].text.replace(\"\\n\",\"\")\n",
    "        #print(element_soup2.findAll(\"a\")[0].text.replace(\"\\n\",\"\"))\n",
    "        temp[\"author\"] = element_soup2.findAll(\"a\")[1].text.replace(\"\\n\",\"\")\n",
    "        #print(element_soup2.findAll(\"a\")[1].text.replace(\"\\n\",\"\"))\n",
    "        # element_soup3=element_soup1.find(\"div\",class_=\"qbn-box\")\n",
    "        # print(\"3 \",element_soup3)\n",
    "        temp['back_ground_image'] = BASE_URL1+element.find(\"div\",class_=\"qll-bg\").get('data-img-url') \n",
    "        tag=[]\n",
    "        try:\n",
    "            element_soup4=element.find(\"div\",class_=\"kw-box\").findAll(\"a\")\n",
    "            for item in element_soup4:\n",
    "                tag.append(item.text)\n",
    "        except:\n",
    "            print(\"Error in tags with Images\")\n",
    "            pass\n",
    "        temp[\"tags\"] = tag\n",
    "        #print(tag)\n",
    "        #print(temp)\n",
    "        quote_detail_list.append(temp)\n",
    "        #print(i,\"-\" * 100)\n",
    "    return quote_detail_list"
   ]
  },
  {
   "cell_type": "code",
   "execution_count": 27,
   "metadata": {},
   "outputs": [
    {
     "name": "stdout",
     "output_type": "stream",
     "text": [
      "26\n"
     ]
    }
   ],
   "source": [
    "print(len(authors))"
   ]
  },
  {
   "cell_type": "code",
   "execution_count": 28,
   "metadata": {},
   "outputs": [
    {
     "name": "stdout",
     "output_type": "stream",
     "text": [
      "['a', 'b', 'c', 'd', 'e', 'f', 'g', 'h', 'i', 'j', 'k', 'l', 'm', 'n', 'o', 'p', 'r', 's', 't', 'u', 'v', 'w', 'y', 'z', 'q', 'x']\n"
     ]
    }
   ],
   "source": [
    "letters=list(authors.keys())\n",
    "print(letters) #['a', 'b', 'c', 'd', 'e', 'f', 'g', 'h', 'i', 'j', 'k', 'l', 'm', 'n', 'o', 'p', 'r', 's', 't', 'u', 'v', 'w', 'y', 'z', 'q', 'x']"
   ]
  },
  {
   "cell_type": "code",
   "execution_count": 33,
   "metadata": {},
   "outputs": [],
   "source": [
    "all_quotes_dict={}"
   ]
  },
  {
   "cell_type": "code",
   "execution_count": 35,
   "metadata": {
    "scrolled": true
   },
   "outputs": [
    {
     "name": "stdout",
     "output_type": "stream",
     "text": [
      "10   k 1069\n",
      "639   Kevin Abstract\n",
      "640   Kevin Alejandro\n",
      "641   Kevin Anderson\n",
      "642   Kevin Ayers\n",
      "643   Kevin Bacon\n",
      "644   Kevin Bales\n",
      "645   Kevin Barry\n",
      "646   Kevin Bleyer\n",
      "647   Kevin Brady\n",
      "648   Kevin Brockmeier\n",
      "649   Kevin Brownlow\n",
      "650   Kevin Canty\n",
      "651   Kevin Chamberlin\n",
      "652   Kevin Chapman\n",
      "653   Kevin Connolly\n",
      "654   Kevin Conroy\n",
      "655   Kevin Corrigan\n",
      "656   Kevin Costner\n",
      "657   Kevin Cramer\n",
      "658   Kevin Crossley-Holland\n",
      "659   Kevin Daniels\n",
      "660   Kevin De Bruyne\n",
      "661   Kevin de Leon\n",
      "662   Kevin DeYoung\n",
      "663   Kevin Dillon\n",
      "664   Kevin Dunn\n",
      "665   Kevin Durand\n",
      "666   Kevin Durant\n",
      "667   Kevin Eubanks\n",
      "668   Kevin Federline\n",
      "669   Kevin Feige\n",
      "670   Kevin Frazier\n",
      "671   Kevin Garnett\n",
      "672   Kevin Gates\n",
      "673   Kevin Harrington\n",
      "674   Kevin Hart\n",
      "675   Kevin Harvey\n",
      "676   Kevin Harvick\n",
      "677   Kevin Hassett\n",
      "678   Kevin Heffernan\n",
      "679   Kevin Henkes\n",
      "680   Kevin J. Anderson\n",
      "681   Kevin James\n",
      "682   Kevin Johnson\n",
      "683   Kevin Jonas\n",
      "684   Kevin Jorgeson\n",
      "685   Kevin Keegan\n",
      "686   Kevin Kelly\n",
      "687   Kevin Kline\n",
      "688   Kevin Knox\n",
      "689   Kevin Kwan\n",
      "690   Kevin Lima\n",
      "691   Kevin Love\n",
      "692   Kevin Lynch\n",
      "693   Kevin Macdonald\n",
      "694   Kevin McCarthy\n",
      "695   Kevin McCloud\n",
      "696   Kevin McCollum\n",
      "697   Kevin McDonald\n",
      "698   Kevin McHale\n",
      "699   Kevin McKidd\n",
      "700   Kevin Michael Richardson\n",
      "701   Kevin Mitnick\n",
      "702   Kevin Morby\n",
      "703   Kevin Nash\n",
      "704   Kevin Nealon\n",
      "705   Kevin O'Leary\n",
      "706   Kevin Owens\n",
      "707   Kevin P. Ryan\n",
      "708   Kevin Parker\n",
      "709   Kevin Patterson\n",
      "710   Kevin Peter Hall\n",
      "711   Kevin Pietersen\n",
      "712   Kevin Plank\n",
      "713   Kevin Pollak\n",
      "714   Kevin Powers\n",
      "715   Kevin R. Stone\n",
      "716   Kevin Rahm\n",
      "717   Kevin Reilly\n",
      "718   Kevin Richardson\n",
      "719   Kevin Rollins\n",
      "720   Kevin Rose\n",
      "721   Kevin Rudd\n",
      "722   Kevin Schmidt\n",
      "723   Kevin Shelley\n",
      "724   Kevin Smith\n",
      "725   Kevin Sorbo\n",
      "726   Kevin Spacey\n",
      "727   Kevin Sussman\n",
      "728   Kevin Systrom\n",
      "729   Kevin Warsh\n",
      "730   Kevin Weisman\n",
      "731   Kevin Whately\n",
      "732   Kevin Williamson\n",
      "733   Kevin Wilson\n",
      "734   Kevin Yoder\n",
      "735   Kevin Young\n",
      "736   Kevin Zegers\n",
      "737   Kevin-Prince Boateng\n",
      "738   Kevyn Aucoin\n",
      "739   Keyshawn Johnson\n",
      "740   Kgalema Motlanthe\n",
      "741   Khabib Nurmagomedov\n",
      "742   Khaled Hosseini\n",
      "743   Khaleda Zia\n",
      "744   Khalid\n",
      "745   Khalid A. Al-Falih\n",
      "746   Khalifa bin Zayed Al Nahyan\n",
      "747   Khalil Gibran\n",
      "748   Khalil Mack\n",
      "749   Khandi Alexander\n",
      "750   Khil Raj Regmi\n",
      "751   Khleo\n",
      "752   Khloe Kardashian\n",
      "753   Khoudia Diop\n",
      "754   Khris Middleton\n",
      "755   Ki Hong Lee\n",
      "756   Kian Lawley\n",
      "757   Kiana Tom\n",
      "758   Kiara Advani\n",
      "759   Kid Cudi\n",
      "760   Kid Nichols\n",
      "761   Kid President\n",
      "762   Kid Rock\n",
      "763   Kidada Jones\n",
      "764   Kidd Kraddick\n",
      "765   Kiefer Sutherland\n",
      "766   Kiele Sanchez\n",
      "767   Kieran Bew\n",
      "768   Kieran Culkin\n",
      "769   Kieran Trippier\n",
      "770   Kiernan Shipka\n",
      "771   Kiersey Clemons\n",
      "772   Kierston Wareing\n",
      "773   Kiesza\n",
      "774   Kiiara\n",
      "775   Kiki Dee\n",
      "776   Kiki Smith\n",
      "777   Killer Mike\n",
      "778   Killi Krupa Rani\n",
      "779   Kim Alexis\n",
      "780   Kim Barnouin\n",
      "781   Kim Basinger\n",
      "782   Kim Brooks\n",
      "783   Kim Campbell\n",
      "784   Kim Carnes\n",
      "785   Kim Casali\n",
      "786   Kim Cattrall\n",
      "787   Kim Clijsters\n",
      "788   Kim Coates\n",
      "789   Kim Collins\n",
      "790   Kim Dae Jung\n",
      "791   Kim Deal\n",
      "792   Kim Delaney\n",
      "793   Kim Dickens\n",
      "794   Kim Dotcom\n",
      "795   Kim Edwards\n",
      "796   Kim Elizabeth\n",
      "797   Kim Fields\n",
      "798   Kim Gordon\n",
      "799   Kim Harrison\n",
      "800   Kim Hawthorne\n",
      "801   Kim Hunter\n",
      "802   Kim Il-sung\n",
      "803   Kim Jee-woon\n",
      "804   Kim Jong Il\n",
      "805   Kim Jong-hyun\n",
      "806   Kim Jong-un\n",
      "807   Kim Kardashian\n",
      "808   Kim Ki-duk\n",
      "809   Kim Mathers\n",
      "810   Kim Matula\n",
      "811   Kim Newman\n",
      "812   Kim Novak\n",
      "813   Kim Petras\n",
      "814   Kim Philby\n",
      "815   Kim Raver\n",
      "816   Kim Rhodes\n",
      "817   Kim Richards\n",
      "818   Kim Shaw\n",
      "819   Kim Smith\n",
      "820   Kim Stanley Robinson\n",
      "821   Kim Swift\n",
      "822   Kim Weston\n",
      "823   Kim Wilde\n",
      "824   Kim Woo-bin\n",
      "825   Kim Young-ha\n",
      "826   Kim Young-sam\n",
      "827   Kim Yuna\n",
      "828   Kimbal Musk\n",
      "829   Kimberle Williams Crenshaw\n",
      "830   Kimberley Nixon\n",
      "831   Kimberly Bryant\n",
      "832   Kimberly Caldwell\n",
      "833   Kimberly Elise\n",
      "834   Kimberly Guilfoyle\n",
      "835   Kimberly Quinn\n",
      "836   Kimberly Schlapman\n",
      "837   Kimberly Williams-Paisley\n",
      "838   Kimberly Willis Holt\n",
      "839   Kimbo Slice\n",
      "840   Kimbra\n",
      "841   Kimi Raikkonen\n",
      "842   Kimiko Glenn\n",
      "843   Kimora Lee Simmons\n",
      "844   Kin Hubbard\n",
      "845   Kina Grannis\n",
      "846   King Bach\n",
      "847   King Diamond\n",
      "848   King George II\n",
      "849   King George V\n",
      "850   King George VI\n",
      "851   King Hu\n",
      "852   King James I\n",
      "853   King Krule\n",
      "854   King Princess\n",
      "855   King Solomon\n",
      "856   King Tuff\n",
      "857   King Vidor\n",
      "858   Kingman Brewster, Jr.\n",
      "859   Kingsley Amis\n",
      "860   Kinky Friedman\n",
      "861   Kiowa Gordon\n",
      "862   Kip Moore\n",
      "863   Kip Pardue\n",
      "864   Kip Thorne\n",
      "865   Kip Winger\n",
      "866   Kiran Ahluwalia\n",
      "867   Kiran Bedi\n",
      "868   Kiran Desai\n",
      "869   Kiran Mazumdar-Shaw\n",
      "870   Kirby Bliss Blanton\n",
      "871   Kirby Larson\n",
      "872   Kirby Puckett\n",
      "873   Kirby Smart\n",
      "874   Kiri Te Kanawa\n",
      "875   Kirk Acevedo\n",
      "876   Kirk Cameron\n",
      "877   Kirk Douglas\n",
      "878   Kirk Gibson\n",
      "879   Kirk Hammett\n",
      "880   Kirk Kerkorian\n",
      "881   Kirsten Dunst\n",
      "882   Kirsten Gillibrand\n",
      "883   Kirsten Green\n",
      "884   Kirsten Nelson\n",
      "885   Kirsten Prout\n",
      "886   Kirsten Storms\n",
      "887   Kirsten Sweetland\n",
      "888   Kirsten Vangsness\n",
      "889   Kirstie Alley\n",
      "890   Kirstin Maldonado\n",
      "891   Kirstjen Nielsen\n",
      "892   Kirsty Coventry\n",
      "893   Kirsty Gallacher\n",
      "894   Kirti Kulhari\n",
      "895   Kishore Chandra Deo\n",
      "896   Kit Bond\n",
      "897   Kit Carson\n",
      "898   Kit Harington\n",
      "899   Kit Reed\n",
      "900   Kit Williams\n",
      "901   Kitty Carlisle\n",
      "902   Kitty Kelley\n",
      "903   KJ Apa\n",
      "904   Kjell Magne Bondevik\n",
      "905   Klas Pontus Arnoldson\n",
      "906   Klaus Fuchs\n",
      "907   Klaus Kinski\n",
      "908   Klaus Lackner\n",
      "909   Klaus Schulze\n",
      "910   Klaus Schwab\n",
      "911   Klaus von Klitzing\n",
      "912   Klay Thompson\n",
      "913   Klemens von Metternich\n",
      "914   Klement Gottwald\n",
      "915   Knut Hamsun\n",
      "916   Knute Nelson\n",
      "917   Knute Rockne\n",
      "918   Ko Wen-je\n",
      "919   Kobe Bryant\n",
      "920   Kodak Black\n",
      "921   Kodi Smit-McPhee\n",
      "922   Kodie Shane\n",
      "923   Kofi Annan\n",
      "924   Kofi Kingston\n",
      "925   Kohei Uchimura\n",
      "926   Koichi Tanaka\n",
      "927   Kojo Annan\n",
      "928   Koko Taylor\n",
      "929   Konrad Adenauer\n",
      "930   Konrad Lorenz\n",
      "931   Konrad von Gesner\n",
      "932   Konrad Zuse\n",
      "933   Konstantin Tsiolkovsky\n",
      "934   Konstantinos Karamanlis\n",
      "935   Koo Stark\n",
      "936   Kool Keith\n",
      "937   Kool Moe Dee\n",
      "938   Koren Zailckas\n",
      "939   Korky Paul\n",
      "940   Kou Shibasaki\n",
      "941   Kourtney Kardashian\n",
      "942   Kratika Sengar\n",
      "943   Kreayshawn\n",
      "944   Kresley Cole\n",
      "945   Kris Allen\n",
      "946   Kris Carr\n",
      "Error in tags without Images\n",
      "947   Kris Gopalakrishnan\n",
      "948   Kris Holden-Ried\n",
      "949   Kris Humphries\n",
      "950   Kris Jenner\n",
      "951   Kris Kobach\n",
      "952   Kris Kristofferson\n",
      "953   Kris Wu\n",
      "954   Krist Novoselic\n",
      "955   Krista Allen\n",
      "956   Krista Tippett\n",
      "957   Kristan Higgins\n",
      "958   Kristanna Loken\n",
      "959   Kristaps Porzingis\n",
      "960   Kristen Bell\n",
      "961   Kristen Connolly\n",
      "962   Kristen Johnston\n",
      "963   Kristen Renton\n",
      "964   Kristen Schaal\n",
      "965   Kristen Soltis Anderson\n",
      "966   Kristen Stewart\n",
      "967   Kristen Wiig\n",
      "968   Kristi Noem\n",
      "969   Kristi Yamaguchi\n",
      "970   Kristian Bush\n",
      "971   Kristian Nairn\n",
      "972   Kristin Armstrong\n",
      "973   Kristin Bauer van Straten\n",
      "974   Kristin Cast\n",
      "975   Kristin Cavallari\n",
      "976   Kristin Chenoweth\n",
      "977   Kristin Davis\n",
      "978   Kristin Gore\n",
      "979   Kristin Hannah\n",
      "980   Kristin Hersh\n",
      "981   Kristin Kreuk\n",
      "982   Kristin Lehman\n",
      "983   Kristin Scott Thomas\n",
      "984   Kristina McMorris\n",
      "985   Kristine Kathryn Rusch\n",
      "986   Kristine Opolais\n",
      "987   Kristofer Hivju\n",
      "988   Kristoffer Polaha\n",
      "989   Kristy McNichol\n",
      "990   Kristy Swanson\n",
      "991   Kriti Kharbanda\n",
      "992   Kriti Sanon\n",
      "993   KRS-One\n",
      "994   Krysten Ritter\n",
      "995   Krystle D'Souza\n",
      "996   Krzysztof Kieslowski\n",
      "997   Krzysztof Piatek\n",
      "998   Ksenia Sobchak\n",
      "999   Ksenia Solo\n",
      "1000   KSI\n",
      "1001   Kublai Khan\n",
      "1002   Kubra Sait\n",
      "1003   Kumail Nanjiani\n",
      "1004   Kumar Mangalam Birla\n",
      "1005   Kumar Pallana\n",
      "1006   Kunal Nayyar\n",
      "1007   Kuno Becker\n",
      "1008   Kurt Andersen\n",
      "1009   Kurt Angle\n",
      "1010   Kurt Bills\n",
      "1011   Kurt Braunohler\n",
      "1012   Kurt Browning\n",
      "1013   Kurt Busch\n",
      "1014   Kurt Busiek\n",
      "1015   Kurt Cobain\n",
      "1016   Kurt Eichenwald\n",
      "1017   Kurt Elling\n",
      "1018   Kurt Fuller\n",
      "1019   Kurt Huber\n",
      "1020   Kurt Johnstad\n",
      "1021   Kurt Lewin\n",
      "1022   Kurt Loder\n",
      "1023   Kurt Masur\n",
      "1024   Kurt Russell\n",
      "1025   Kurt Schrader\n",
      "1026   Kurt Schwitters\n",
      "1027   Kurt Student\n",
      "1028   Kurt Sutter\n",
      "1029   Kurt Vile\n",
      "1030   Kurt Vonnegut\n",
      "1031   Kurt Warner\n",
      "1032   Kurtis Blow\n",
      "1033   Kurtwood Smith\n",
      "1034   Kushal Pal Singh\n",
      "1035   Kwame Nkrumah\n",
      "1036   Kyan Douglas\n",
      "1037   Kygo\n",
      "1038   Kyla Pratt\n",
      "1039   Kyla Reid\n",
      "1040   Kyle\n",
      "1041   Kyle Abraham\n",
      "1042   Kyle Bornheimer\n",
      "1043   Kyle Chandler\n",
      "1044   Kyle D. Pruett\n",
      "1045   Kyle Dunnigan\n",
      "1046   Kyle Edmund\n"
     ]
    },
    {
     "name": "stdout",
     "output_type": "stream",
     "text": [
      "1047   Kyle Gallner\n",
      "1048   Kyle Hill\n",
      "1049   Kyle Kinane\n",
      "1050   Kyle Korver\n",
      "1051   Kyle Kuzma\n",
      "1052   Kyle MacLachlan\n",
      "1053   Kyle Massey\n",
      "1054   Kyle Mooney\n",
      "1055   Kyle Richards\n",
      "1056   Kyle Schmid\n",
      "1057   Kyle Secor\n",
      "1058   Kyle Shewfelt\n",
      "1059   Kyle Walker\n",
      "1060   Kylie Bax\n",
      "1061   Kylie Bunbury\n",
      "1062   Kylie Jenner\n",
      "1063   Kylie Minogue\n",
      "1064   Kym Whitley\n",
      "1065   Kyp Malone\n",
      "1066   Kyra Sedgwick\n",
      "1067   Kyrie Irving\n",
      "1068   Kyrsten Sinema\n",
      "----------------------------------------------------------------------------------------------------\n"
     ]
    }
   ],
   "source": [
    "for i in range(10,11): #range(0,letters)) #run again from K(10)\n",
    "    #quotes_dict = {}\n",
    "    authors_detailed_list = copy.deepcopy(authors[letters[i]][\"author\"])\n",
    "    print(i,\" \",letters[i], len(authors_detailed_list))\n",
    "    for j in range(639,len(authors_detailed_list)):\n",
    "        print(j,\" \",authors_detailed_list[j][\"author\"])\n",
    "        temp = {}\n",
    "        author_detail = authors_detailed_list[j]\n",
    "        #print(author_detail)\n",
    "        url = BASE_URL+author_detail['path']\n",
    "        driver.get(url)\n",
    "        time.sleep(1)\n",
    "        WebDriverWait(driver,1)\n",
    "        detail = get_author_other_detail()\n",
    "        without_image = get_quotes_without_image()\n",
    "        with_image = get_quotes_with_background_image()\n",
    "        temp[\"quotes_with_image\"] = with_image\n",
    "        temp[\"quotes_without_image\"] = without_image\n",
    "        \n",
    "        temp[\"author_detail\"] = author_detail\n",
    "        temp[\"author_detail\"][\"nationality\"] = detail[\"nationality\"]\n",
    "        temp[\"author_detail\"][\"dob\"] = detail[\"dob\"]\n",
    "        temp[\"author_detail\"][\"wiki_url\"] = detail[\"wikipedia_url\"]\n",
    "        quotes_dict[author_detail[\"author\"]] = temp\n",
    "    print(\"-\" * 100)\n",
    "    all_quotes_dict[letters[i]] = quotes_dict\n",
    "        \n",
    "        "
   ]
  },
  {
   "cell_type": "code",
   "execution_count": 31,
   "metadata": {},
   "outputs": [
    {
     "data": {
      "text/plain": [
       "{\"K'naan\": {'quotes_with_image': [],\n",
       "  'quotes_without_image': [{'quote': \"I don't feel political most of the time. Sometimes I'm placed in positions because no one else will go there.\",\n",
       "    'author': \"K'naan\",\n",
       "    'tags': ['Time', 'Feel', 'Sometimes', 'Go']},\n",
       "   {'quote': \"I'm an optimist about other people. I'm not an optimist about myself.\",\n",
       "    'author': \"K'naan\",\n",
       "    'tags': ['Myself', 'People', 'About', 'Optimist']},\n",
       "   {'quote': \"My question about my art and my music has always been, 'Am I good, or am I good because?' I'm not the artist who wants to have the 'because' attached.\",\n",
       "    'author': \"K'naan\",\n",
       "    'tags': ['Good', 'Music', 'Art', 'Artist']},\n",
       "   {'quote': \"Hip-hop in Africa has been very often a duplication of an American experience, but in a context that's totally alien to it.\",\n",
       "    'author': \"K'naan\",\n",
       "    'tags': ['Experience', 'Africa', 'Alien', 'Hip-Hop']},\n",
       "   {'quote': \"It was interesting to find how dominating American vision is all over the world. I think there's something to be said about the world's mindset and its economics and all of that, and I think it affects the way we see ourselves and it affects music.\",\n",
       "    'author': \"K'naan\",\n",
       "    'tags': ['Music', 'Vision', 'World', 'Think']},\n",
       "   {'quote': 'From the stage, I can reach a large audience, and you learn from being on stage how much a song reaches, what extent of the crowd a song can reach. I write in a way that can reach most of the audience, but I also wanted to have truly intimate moments as well, many intimate moments, more so than the big moments.',\n",
       "    'author': \"K'naan\",\n",
       "    'tags': ['You', 'Song', 'Way', 'I Can']},\n",
       "   {'quote': 'The only way I see the world now is through coming out of and growing up and living in Somalia. In the time of war, everyone was basically trying to live and manage the best they could. But you also had another period which was not a hard time at all - it was just a beautiful time. I lived in both eras.',\n",
       "    'author': \"K'naan\",\n",
       "    'tags': ['War', 'Best', 'Beautiful', 'Time']},\n",
       "   {'quote': \"Somalis really are very musically sophisticated, and they're about their own thing.\",\n",
       "    'author': \"K'naan\",\n",
       "    'tags': ['Own', 'About', 'Really', 'Sophisticated']},\n",
       "   {'quote': \"I'm not about trying to get and get and get. I feel good when I get, but I kind of feel better when I give.\",\n",
       "    'author': \"K'naan\",\n",
       "    'tags': ['Good', 'Better', 'Feel Good', 'Feel']},\n",
       "   {'quote': \"The poetry I grew up on is really an intense form of poetry; it's so pure and powerful.\",\n",
       "    'author': \"K'naan\",\n",
       "    'tags': ['Poetry', 'Powerful', 'Pure', 'Up']},\n",
       "   {'quote': 'The problem is that rap is so often a caricature of its own image. Nobody comes to the table with the seriousness of the effect that it can have; nobody is prepared for that.',\n",
       "    'author': \"K'naan\",\n",
       "    'tags': ['Nobody', 'Problem', 'Own', 'Image']},\n",
       "   {'quote': \"I have moments of darkness, of anger, and moments of rage. They do creep up at the most inopportune times. Not to recognize that in my music would give people a sense of sainthood that I don't necessarily have or even want to have.\",\n",
       "    'author': \"K'naan\",\n",
       "    'tags': ['Music', 'Darkness', 'People', 'Anger']},\n",
       "   {'quote': 'The people of Somalia just do not have a voice. They are to me the most forgotten people in the world.',\n",
       "    'author': \"K'naan\",\n",
       "    'tags': ['Me', 'People', 'World', 'Voice']},\n",
       "   {'quote': \"You want to reach people, but you also want to reach them in the most authentic way. You now have a mass market and an audience that's listening, but they're in love with a song that means absolutely nothing to you.\",\n",
       "    'author': \"K'naan\",\n",
       "    'tags': ['Love', 'You', 'People', 'Song']},\n",
       "   {'quote': \"I'm writing from a place of - a center of authenticity, somewhere that only I know how to write from.\",\n",
       "    'author': \"K'naan\",\n",
       "    'tags': ['Place', 'Know', 'Writing', 'Only']},\n",
       "   {'quote': 'To reach your goal authentically is probably, in the end, going to mean much more to you than having reached it in a false way.',\n",
       "    'author': \"K'naan\",\n",
       "    'tags': ['You', 'Way', 'End', 'Your']},\n",
       "   {'quote': \"I faced quite a few challenging times, and in front of those, I was more positive than some people not facing those conditions. I'm actually of the belief now that it is that struggle that offers you that open-hearted hope.\",\n",
       "    'author': \"K'naan\",\n",
       "    'tags': ['Positive', 'Hope', 'You', 'People']},\n",
       "   {'quote': \"I am one of those people that's never been really cynical about life, you know.\",\n",
       "    'author': \"K'naan\",\n",
       "    'tags': ['Life', 'You', 'I Am', 'People']},\n",
       "   {'quote': \"I know that often times a lot of people who work in music, whether they be labels and so on or even artists, want personal recognition. We want to be recognized for something, for what we did. I'd rather my song be recognized for what it's doing and that's important. It's not so important how many people know me.\",\n",
       "    'author': \"K'naan\",\n",
       "    'tags': ['Work', 'Music', 'Me', 'People']},\n",
       "   {'quote': \"You have to let the world speak to you and then you speak, you know, so I'm in that moment now where I'm finding the world's voice.\",\n",
       "    'author': \"K'naan\",\n",
       "    'tags': ['You', 'Moment', 'World', 'Speak']},\n",
       "   {'quote': \"I wasn't making music consciously when I was younger. I was a musician, but that has its own stigmas. Anywhere on the planet, it's one of the more undervalued positions.\",\n",
       "    'author': \"K'naan\",\n",
       "    'tags': ['Music', 'More', 'Own', 'Planet']},\n",
       "   {'quote': \"Art isn't held with the same high regard as it is after success. In any country, in any language, you're a loser if you're making music until you prove otherwise.\",\n",
       "    'author': \"K'naan\",\n",
       "    'tags': ['Success', 'Music', 'Art', 'You']},\n",
       "   {'quote': \"I enjoy mediation. I think the artist's position is often to mend the things we feel are broken. Whether that's between two cultures or two thoughts. We're always trying to reach, trying to expand something.\",\n",
       "    'author': \"K'naan\",\n",
       "    'tags': ['Thoughts', 'Broken', 'Think', 'Feel']},\n",
       "   {'quote': \"I think it's a mistake to work on success in career. I've worked on my passions obsessively. How can I say what I want to say more precisely than the last time I said it? Success is such an elusive concept. When you work for it, I think you get it in a way you might regret it.\",\n",
       "    'author': \"K'naan\",\n",
       "    'tags': ['Success', 'Work', 'Time', 'You']},\n",
       "   {'quote': \"It's not really that I'm interested in filmmaking. I'm interested in the instrument of it, you know.\",\n",
       "    'author': \"K'naan\",\n",
       "    'tags': ['You', 'Know', 'Filmmaking', 'Really']},\n",
       "   {'quote': \"It was not my dream to be an artist. How could it have been? I thought, artist, much like a leader, was something you either were or weren't. Never something you set out to be.\",\n",
       "    'author': \"K'naan\",\n",
       "    'tags': ['You', 'Leader', 'Never', 'Artist']}],\n",
       "  'author_detail': {'author': \"K'naan\",\n",
       "   'path': '/authors/knaan-quotes',\n",
       "   'profession': 'Musician',\n",
       "   'nationality': 'Somali',\n",
       "   'dob': 'February 1',\n",
       "   'wiki_url': 'https://en.wikipedia.org/wiki/K%27naan'}}}"
      ]
     },
     "execution_count": 31,
     "metadata": {},
     "output_type": "execute_result"
    }
   ],
   "source": []
  },
  {
   "cell_type": "code",
   "execution_count": 28,
   "metadata": {},
   "outputs": [
    {
     "data": {
      "text/plain": [
       "11"
      ]
     },
     "execution_count": 28,
     "metadata": {},
     "output_type": "execute_result"
    }
   ],
   "source": [
    "letters.index(\"l\")"
   ]
  },
  {
   "cell_type": "code",
   "execution_count": 96,
   "metadata": {},
   "outputs": [
    {
     "data": {
      "text/plain": [
       "24"
      ]
     },
     "execution_count": 96,
     "metadata": {},
     "output_type": "execute_result"
    }
   ],
   "source": [
    "authors[\"a\"][\"author\"].index({'author': 'A. P. J. Abdul Kalam',\n",
    "  'path': '/authors/a-p-j-abdul-kalam-quotes',\n",
    "  'profession': 'Statesman'})"
   ]
  },
  {
   "cell_type": "code",
   "execution_count": 59,
   "metadata": {},
   "outputs": [
    {
     "name": "stdout",
     "output_type": "stream",
     "text": [
      "2\n"
     ]
    }
   ],
   "source": [
    "print(len(quotes_dict))"
   ]
  },
  {
   "cell_type": "code",
   "execution_count": 60,
   "metadata": {},
   "outputs": [
    {
     "ename": "KeyError",
     "evalue": "'l'",
     "output_type": "error",
     "traceback": [
      "\u001b[0;31m---------------------------------------------------------------------------\u001b[0m",
      "\u001b[0;31mKeyError\u001b[0m                                  Traceback (most recent call last)",
      "\u001b[0;32m<ipython-input-60-806fc4e8d627>\u001b[0m in \u001b[0;36m<module>\u001b[0;34m\u001b[0m\n\u001b[0;32m----> 1\u001b[0;31m \u001b[0mprint\u001b[0m\u001b[0;34m(\u001b[0m\u001b[0mlen\u001b[0m\u001b[0;34m(\u001b[0m\u001b[0mall_quotes_dict\u001b[0m\u001b[0;34m[\u001b[0m\u001b[0;34m\"l\"\u001b[0m\u001b[0;34m]\u001b[0m\u001b[0;34m)\u001b[0m\u001b[0;34m)\u001b[0m\u001b[0;34m\u001b[0m\u001b[0m\n\u001b[0m",
      "\u001b[0;31mKeyError\u001b[0m: 'l'"
     ]
    }
   ],
   "source": [
    "print(len(all_quotes_dict[\"l\"]))"
   ]
  },
  {
   "cell_type": "code",
   "execution_count": 46,
   "metadata": {},
   "outputs": [
    {
     "data": {
      "text/plain": [
       "{'quotes_with_image': [],\n",
       " 'quotes_without_image': [],\n",
       " 'author_detail': {'author': \"K'naan\",\n",
       "  'path': '/authors/knaan-quotes',\n",
       "  'profession': 'Musician',\n",
       "  'nationality': 'Somali',\n",
       "  'dob': 'February 1',\n",
       "  'wiki_url': 'https://en.wikipedia.org/wiki/K%27naan'}}"
      ]
     },
     "execution_count": 46,
     "metadata": {},
     "output_type": "execute_result"
    }
   ],
   "source": [
    "all_quotes_dict[\"k\"][\"K'naan\"]"
   ]
  },
  {
   "cell_type": "code",
   "execution_count": 49,
   "metadata": {},
   "outputs": [],
   "source": [
    "keys = list(quotes[\"j\"].keys())"
   ]
  },
  {
   "cell_type": "code",
   "execution_count": 50,
   "metadata": {},
   "outputs": [
    {
     "data": {
      "text/plain": [
       "{'quotes_with_image': [],\n",
       " 'quotes_without_image': [{'quote': 'In an election, there are no kings.',\n",
       "   'author': 'Jyotiraditya Madhavrao Scindia',\n",
       "   'tags': ['Election', 'Kings']},\n",
       "  {'quote': \"I'm an unambitious politician.\",\n",
       "   'author': 'Jyotiraditya Madhavrao Scindia',\n",
       "   'tags': ['Politician']},\n",
       "  {'quote': \"My father - the late Madhavrao Scindia - was clear about the distinction between being 'loving' and 'strict.'\",\n",
       "   'author': 'Jyotiraditya Madhavrao Scindia',\n",
       "   'tags': ['Father', 'Late', 'Loving', 'Being']},\n",
       "  {'quote': 'I had barely turned 12 when my parents packed me off to Doon School. I was transported to a world of confusion with 600 other kids, no home-cooked food, no made-to-order clothes. It was a shock, but I adjusted.',\n",
       "   'author': 'Jyotiraditya Madhavrao Scindia',\n",
       "   'tags': ['Me', 'Food', 'World', 'Parents']},\n",
       "  {'quote': \"The family name hasn't fostered my prospects - ever.\",\n",
       "   'author': 'Jyotiraditya Madhavrao Scindia',\n",
       "   'tags': ['Family', 'Name', 'Ever', 'Prospects']},\n",
       "  {'quote': \"I believe that it is important to have faith in a cosmic, universal power and identify the reasons for one's existence.\",\n",
       "   'author': 'Jyotiraditya Madhavrao Scindia',\n",
       "   'tags': ['Faith', 'Power', 'Believe', 'Important']},\n",
       "  {'quote': 'Long-term power purchase agreements are very important from an Indian perspective, not only in terms of supplying regular power across the country, but also for efficacy of the transmission network.',\n",
       "   'author': 'Jyotiraditya Madhavrao Scindia',\n",
       "   'tags': ['Power', 'Perspective', 'Country', 'Important']},\n",
       "  {'quote': \"The word 'commercial' implies a notion of profit.\",\n",
       "   'author': 'Jyotiraditya Madhavrao Scindia',\n",
       "   'tags': ['Profit', 'Word', 'Commercial', 'Notion']},\n",
       "  {'quote': 'To avoid a blackout, electricity generating companies must lower generation in line with low demand.',\n",
       "   'author': 'Jyotiraditya Madhavrao Scindia',\n",
       "   'tags': ['Generation', 'Electricity', 'Avoid', 'Low']},\n",
       "  {'quote': 'Electricity transmission operates on a frequency between 49.7 Hertz and 50.2 Hertz. What I have done is petitioned the Central Electricity Regulatory Commission and squeezed this band to now 49.9 Hertz to 50.1 Hertz. This will contain volatility.',\n",
       "   'author': 'Jyotiraditya Madhavrao Scindia',\n",
       "   'tags': ['Will', 'Done', 'Electricity', 'Band']}],\n",
       " 'author_detail': {'author': 'Jyotiraditya Madhavrao Scindia',\n",
       "  'path': '/authors/jyotiraditya-madhavrao-sc-quotes',\n",
       "  'profession': 'Politician'}}"
      ]
     },
     "execution_count": 50,
     "metadata": {},
     "output_type": "execute_result"
    }
   ],
   "source": [
    "quotes[\"j\"][keys[-1]]"
   ]
  },
  {
   "cell_type": "code",
   "execution_count": 37,
   "metadata": {},
   "outputs": [
    {
     "name": "stdout",
     "output_type": "stream",
     "text": [
      "1069\n"
     ]
    }
   ],
   "source": [
    "print(len(all_quotes_dict[\"k\"]))"
   ]
  },
  {
   "cell_type": "code",
   "execution_count": null,
   "metadata": {
    "scrolled": true
   },
   "outputs": [],
   "source": []
  },
  {
   "cell_type": "code",
   "execution_count": null,
   "metadata": {},
   "outputs": [],
   "source": [
    "\n",
    "    "
   ]
  },
  {
   "cell_type": "code",
   "execution_count": null,
   "metadata": {},
   "outputs": [],
   "source": []
  },
  {
   "cell_type": "code",
   "execution_count": null,
   "metadata": {},
   "outputs": [],
   "source": []
  },
  {
   "cell_type": "code",
   "execution_count": null,
   "metadata": {},
   "outputs": [],
   "source": []
  }
 ],
 "metadata": {
  "kernelspec": {
   "display_name": "Python 3",
   "language": "python",
   "name": "python3"
  },
  "language_info": {
   "codemirror_mode": {
    "name": "ipython",
    "version": 3
   },
   "file_extension": ".py",
   "mimetype": "text/x-python",
   "name": "python",
   "nbconvert_exporter": "python",
   "pygments_lexer": "ipython3",
   "version": "3.6.1"
  }
 },
 "nbformat": 4,
 "nbformat_minor": 2
}
